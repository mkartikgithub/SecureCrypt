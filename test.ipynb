{
 "cells": [
  {
   "cell_type": "code",
   "execution_count": 1,
   "id": "30f6ff71",
   "metadata": {},
   "outputs": [
    {
     "name": "stdout",
     "output_type": "stream",
     "text": [
      "File Encrypted Successfully!!!\n"
     ]
    }
   ],
   "source": [
    "from cryptography.fernet import Fernet\n",
    "import os\n",
    "\n",
    "def generate_key():\n",
    "    key = Fernet.generate_key()\n",
    "    with open(\"Secret.key\", \"wb\") as key_file:\n",
    "        key_file.write(key)\n",
    "\n",
    "\n",
    "def load_key():\n",
    "    return open(\"Secret.key\", \"rb\").read()\n",
    "\n",
    "\n",
    "def encrypt(filename, key):\n",
    "    f = Fernet(key)\n",
    "    with open(filename, \"rb\") as file:\n",
    "        file_data = file.read()\n",
    "        encrypted_data = f.encrypt(file_data)\n",
    "    with open(filename, \"wb\") as file:\n",
    "        file.write(encrypted_data)\n",
    "\n",
    "\n",
    "def decrypt(filename, key):\n",
    "    f = Fernet(key)\n",
    "    with open(filename, \"rb\") as file:\n",
    "        encrypted_data = file.read()\n",
    "        from fernet import InvalidToken\n",
    "        try:\n",
    "            decrypted_data = f.decrypt(encrypted_data)\n",
    "        except InvalidToken:\n",
    "            print(\"Invalid key\")\n",
    "            return\n",
    "    with open(filename, \"wb\") as file:\n",
    "        file.write(decrypted_data)\n",
    "\n",
    "\n",
    "choice = input(\"Enter 'E' to encrypt or 'D' decrypt the file.\").lower()\n",
    "if choice == 'e':\n",
    "    filename = input(\"Enter the file name to encrypt(including file extension):\")\n",
    "    if os.path.exists(filename):\n",
    "        generate_key()\n",
    "        key = load_key()\n",
    "        encrypt(filename, key)\n",
    "        print(\"File Encrypted Successfully!!!\")\n",
    "    else:\n",
    "        print(f\"file '{filename}' not found. Please check the file name and try again.\")\n",
    "\n",
    "elif choice == \"d\":\n",
    "    filename = input(\"Enter the file name to encrypt(including file extension):\")\n",
    "    if os.path.exists(filename):\n",
    "        key = load_key()\n",
    "        decrypt(filename, key)\n",
    "        print(\"File Decrypted Successfully!!!\")\n",
    "    else:\n",
    "        print(f\"file '{filename}' not found. Please check the file name and try again.\")\n",
    "\n",
    "else:\n",
    "    print(\"Invalid choice. Please enter 'E' to encrypt a file or 'D' to decrypt a file\")"
   ]
  }
 ],
 "metadata": {
  "kernelspec": {
   "display_name": "Python 3",
   "language": "python",
   "name": "python3"
  },
  "language_info": {
   "codemirror_mode": {
    "name": "ipython",
    "version": 3
   },
   "file_extension": ".py",
   "mimetype": "text/x-python",
   "name": "python",
   "nbconvert_exporter": "python",
   "pygments_lexer": "ipython3",
   "version": "3.10.0"
  }
 },
 "nbformat": 4,
 "nbformat_minor": 5
}
